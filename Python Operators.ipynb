{
 "cells": [
  {
   "cell_type": "code",
   "execution_count": 1,
   "id": "e28412a5-3e53-4cbd-b58c-f5fe61dd1a3b",
   "metadata": {},
   "outputs": [
    {
     "name": "stdout",
     "output_type": "stream",
     "text": [
      "sum = 12\n",
      "difference =  8\n",
      "product =  20\n",
      "quotient = 5.0\n"
     ]
    }
   ],
   "source": [
    "# Q. 1\n",
    "a = 10\n",
    "b = 2\n",
    "print (\"sum =\", a+b)\n",
    "print (\"difference = \", a-b)\n",
    "print (\"product = \", a*b)\n",
    "print (\"quotient =\", a/b)"
   ]
  },
  {
   "cell_type": "code",
   "execution_count": 2,
   "id": "b2b2a860-4b4e-4a73-b848-ec051884baeb",
   "metadata": {},
   "outputs": [
    {
     "name": "stdout",
     "output_type": "stream",
     "text": [
      "15\n",
      "13\n",
      "26\n",
      "13.0\n"
     ]
    }
   ],
   "source": [
    "#Q.2\n",
    "\n",
    "a = 10 \n",
    "a +=5\n",
    "print (a)\n",
    "\n",
    "a -=2\n",
    "print (a)\n",
    "\n",
    "a *= 2\n",
    "print (a)\n",
    "\n",
    "a/=2\n",
    "print (a)"
   ]
  },
  {
   "cell_type": "code",
   "execution_count": 3,
   "id": "09680ea8-1799-4963-97e4-821da269e05f",
   "metadata": {},
   "outputs": [
    {
     "name": "stdout",
     "output_type": "stream",
     "text": [
      "False\n",
      "True\n",
      "True\n",
      "False\n"
     ]
    }
   ],
   "source": [
    "#Q.3\n",
    "\n",
    "a= 10\n",
    "\n",
    "print (a==b)\n",
    "print (a!=b)\n",
    "print (a>b)\n",
    "print (a<b)"
   ]
  },
  {
   "cell_type": "code",
   "execution_count": 4,
   "id": "92777ddb-4de4-4c12-a783-38cb515f7ce7",
   "metadata": {},
   "outputs": [
    {
     "name": "stdout",
     "output_type": "stream",
     "text": [
      "True\n",
      "True\n",
      "False\n"
     ]
    }
   ],
   "source": [
    "#Q. 4\n",
    "\n",
    "x = 7;\n",
    "print ( x>5 and x<10)\n",
    "print ( x>5 or x<10)\n",
    "print (not (x > 5 and x < 10))"
   ]
  },
  {
   "cell_type": "code",
   "execution_count": 5,
   "id": "d69fce74-543e-4972-8606-0e0b9fe70d9d",
   "metadata": {},
   "outputs": [
    {
     "name": "stdout",
     "output_type": "stream",
     "text": [
      "False\n",
      "True\n"
     ]
    }
   ],
   "source": [
    "#Q.5\n",
    "\n",
    "a = \"i am a data analyst\"\n",
    "b = \"good\"\n",
    "print (a is b)\n",
    "print( a is not b)"
   ]
  },
  {
   "cell_type": "code",
   "execution_count": 6,
   "id": "13d7f215-8ec9-444c-928f-c58c8cc262bc",
   "metadata": {},
   "outputs": [
    {
     "name": "stdout",
     "output_type": "stream",
     "text": [
      "8\n",
      "0b1000\n",
      "14\n",
      "0b1110\n",
      "-11\n",
      "-0b1011\n",
      "6\n",
      "0b110\n",
      "40\n",
      "0b101000\n",
      "2\n",
      "0b10\n"
     ]
    }
   ],
   "source": [
    "#Q. 6\n",
    "a = 10\n",
    "b = 12\n",
    "\n",
    "print (a&b)\n",
    "print (bin (a&b))\n",
    "\n",
    "print (a|b)\n",
    "print (bin (a|b))\n",
    "\n",
    "print (~a)\n",
    "print (bin (~a))\n",
    "\n",
    "print (a^b)\n",
    "print (bin (a^b))\n",
    "\n",
    "print (a<<2)\n",
    "print (bin (a<<2))\n",
    "\n",
    "print (a>>2)\n",
    "print (bin (a>>2))\n",
    "\n"
   ]
  },
  {
   "cell_type": "code",
   "execution_count": 7,
   "id": "2aff8f38-7c0e-47f8-8108-2704e78a2bf3",
   "metadata": {},
   "outputs": [
    {
     "name": "stdout",
     "output_type": "stream",
     "text": [
      "20\n",
      "-18\n",
      "-25\n",
      "44\n"
     ]
    }
   ],
   "source": [
    "#Q.7\n",
    "a = -20\n",
    "print (-(a))\n",
    "\n",
    "b = 18\n",
    "print (-b)\n",
    "\n",
    "c = 24\n",
    "d = -45\n",
    "print (~c)\n",
    "print (~d)"
   ]
  },
  {
   "cell_type": "code",
   "execution_count": 85,
   "id": "b531a1eb-f795-48b1-9513-5f380b4265fa",
   "metadata": {},
   "outputs": [
    {
     "name": "stdout",
     "output_type": "stream",
     "text": [
      "the no is greater than 20\n",
      "\n",
      "the no is less than or equal to 20\n",
      "\n",
      "the no is equal to 20\n"
     ]
    },
    {
     "name": "stdin",
     "output_type": "stream",
     "text": [
      "\n",
      "enter your age 56\n"
     ]
    },
    {
     "name": "stdout",
     "output_type": "stream",
     "text": [
      "Age = 56\n"
     ]
    },
    {
     "name": "stdin",
     "output_type": "stream",
     "text": [
      "male / female male\n"
     ]
    },
    {
     "name": "stdout",
     "output_type": "stream",
     "text": [
      "gender =  male\n",
      "\n",
      "you will get 50% off\n"
     ]
    }
   ],
   "source": [
    "#Q.8\n",
    "# IF\n",
    "a = 50\n",
    "if a>20:\n",
    "    print (\"the no is greater than 20\")\n",
    "    \n",
    "#IF - ELSE\n",
    "\n",
    "b= 10\n",
    "if b >20:\n",
    "    print (\"the no is greater than 20\")\n",
    "else:\n",
    "    print (\"\\nthe no is less than or equal to 20\")\n",
    "    \n",
    "#IF - ELIF - ELSE\n",
    "\n",
    "c = 20\n",
    "if  c>20:\n",
    "    print (\"\\nthe no is greater than 20\")\n",
    "elif  c<20:\n",
    "    print (\"\\nthe no is less than 20\")\n",
    "else:\n",
    "    print (\"\\nthe no is equal to 20\")\n",
    "\n",
    "    \n",
    "#NESTED - IF\n",
    "age = int(input(\"\\nenter your age\"))\n",
    "print (\"Age =\", age)\n",
    "\n",
    "gen =  input(\"male / female\")\n",
    "print (\"gender = \",gen)\n",
    "if age >=18:\n",
    "    if gen == \"male\":\n",
    "        print (\"\\nyou will get 50% off\")\n",
    "    elif gen == \"female\":\n",
    "        print (\"\\nyou will get 60% off \")\n",
    "    else :\n",
    "        print (\"\\nwrong input\")\n",
    "else :\n",
    "    print (\"\\nyou will get 70% off \")\n",
    "        "
   ]
  }
 ],
 "metadata": {
  "kernelspec": {
   "display_name": "Python 3 (ipykernel)",
   "language": "python",
   "name": "python3"
  },
  "language_info": {
   "codemirror_mode": {
    "name": "ipython",
    "version": 3
   },
   "file_extension": ".py",
   "mimetype": "text/x-python",
   "name": "python",
   "nbconvert_exporter": "python",
   "pygments_lexer": "ipython3",
   "version": "3.10.8"
  }
 },
 "nbformat": 4,
 "nbformat_minor": 5
}
